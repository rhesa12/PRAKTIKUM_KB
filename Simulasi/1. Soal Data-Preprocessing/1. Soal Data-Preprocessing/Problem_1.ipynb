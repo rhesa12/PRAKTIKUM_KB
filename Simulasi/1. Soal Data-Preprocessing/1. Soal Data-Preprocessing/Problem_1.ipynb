{
 "cells": [
  {
   "cell_type": "markdown",
   "metadata": {},
   "source": [
    "<hr>\n",
    "\n",
    "**SOAL 1.Deep Preprocessing**\n",
    "\n",
    "<div class=\"alert alert-block alert-info\">\n",
    "    <ul>\n",
    "        <li>Lakukan data-preprocessing sesuai arahan yang diberikan</li>\n",
    "        <li>Dataset adalah dataset titanic dengan target adalah <b>Survived</b></li>\n",
    "    </ul>\n",
    "</div>\n",
    "\n",
    "\n",
    "\n",
    "<div class=\"alert alert-block alert-danger\">\n",
    "    <ul>\n",
    "        <li><b>Jangan menghapus</b>  template code yang telah disediakan</li>\n",
    "    </ul>\n",
    "</div>\n",
    "\n",
    "<hr>\n",
    "\n"
   ]
  },
  {
   "cell_type": "markdown",
   "metadata": {},
   "source": [
    "## Import Library & Read Data"
   ]
  },
  {
   "cell_type": "code",
   "execution_count": null,
   "metadata": {},
   "outputs": [],
   "source": [
    "import pandas as pd\n",
    "import sklearn"
   ]
  },
  {
   "cell_type": "code",
   "execution_count": null,
   "metadata": {},
   "outputs": [],
   "source": [
    "# JANGAN MENGUBAH KODE INI\n",
    "df = pd.read_csv('titanic_raw.csv')\n",
    "df.head()"
   ]
  },
  {
   "cell_type": "markdown",
   "metadata": {},
   "source": [
    "<div class=\"alert alert-block alert-success\">\n",
    "    <h3><b>A.</b> Data Cleaning</h3>\n",
    "    <li>Hilangkan Null pada data</li>\n",
    "    <li>Hilangkan nilai duplikat pada data</li>\n",
    "    <li>Simpan perubahan ke variable <b>df</b></li>\n",
    "</div>\n"
   ]
  },
  {
   "cell_type": "code",
   "execution_count": null,
   "metadata": {},
   "outputs": [],
   "source": [
    "#KODE KALIAN DISINI"
   ]
  },
  {
   "cell_type": "markdown",
   "metadata": {},
   "source": [
    "<div class=\"alert alert-block alert-success\">\n",
    "    <h3><b>B.</b> Encoding</h3>\n",
    "    <li>Lakukan one-hot encoding kedalam dataset</li>\n",
    "    <li>Simpan perubahan ke variable <b>df</b></li>\n",
    "</div>"
   ]
  },
  {
   "cell_type": "code",
   "execution_count": null,
   "metadata": {},
   "outputs": [],
   "source": [
    "#KODE KALIAN DISINI"
   ]
  },
  {
   "cell_type": "code",
   "execution_count": null,
   "metadata": {},
   "outputs": [],
   "source": [
    "# JANGAN MENGUBAH KODE INI\n",
    "df.drop(['Sex','Embarked'],axis=1,inplace=True)"
   ]
  },
  {
   "cell_type": "markdown",
   "metadata": {},
   "source": [
    "<div class=\"alert alert-block alert-success\">\n",
    "    <h3><b>C.</b> Transformation</h3>\n",
    "    <li>Lakukan standarisasi dan normalisasi</li>\n",
    "    Simpan perubahan ke variable copy dari <b>df</b>\n",
    "</div>"
   ]
  },
  {
   "cell_type": "code",
   "execution_count": null,
   "metadata": {},
   "outputs": [],
   "source": [
    "# JANGAN MENGUBAH KODE INI\n",
    "df_norm = df.copy()\n",
    "\n",
    "ss = #KODE KALIAN DISINI\n",
    "Scaled_data = #KODE KALIAN DISINI\n",
    "\n",
    "# JANGAN MENGUBAH KODE INI\n",
    "df_min_max = df.copy()\n",
    "\n",
    "norm = #KODE KALIAN DISINI\n",
    "normalize_data = #KODE KALIAN DISINI"
   ]
  },
  {
   "cell_type": "markdown",
   "metadata": {},
   "source": [
    "<div class=\"alert alert-block alert-success\">\n",
    "    <h3><b>D.</b> Data Splitting</h3>\n",
    "    <li>Split data menjadi train dan test set</li>\n",
    "    <li>train set mengambil 65% dari keseluruhan data</li>\n",
    "    <li>Gunakan variable df</li>\n",
    "</div>"
   ]
  },
  {
   "cell_type": "code",
   "execution_count": null,
   "metadata": {},
   "outputs": [],
   "source": [
    "X = #KODE KALIAN DISINI\n",
    "y = #KODE KALIAN DISINI\n",
    "\n",
    "data_split = #KODE KALIAN DISINI"
   ]
  },
  {
   "cell_type": "markdown",
   "metadata": {},
   "source": [
    "<div class=\"alert alert-block alert-success\">\n",
    "    <h3><b>E.</b> Submission</h3>\n",
    "    <b>Dilarang keras mengubah semua kode dibawah</b>\n",
    "</div>"
   ]
  },
  {
   "cell_type": "markdown",
   "metadata": {},
   "source": [
    "<div class=\"alert alert-block alert-success\">\n",
    "    <h4><b>E.1</b> Data Cleaning</h4>\n",
    "    <li>Pastikan tidak ada nilai null dan duplikat didalam data</li>\n",
    "</div>"
   ]
  },
  {
   "cell_type": "code",
   "execution_count": null,
   "metadata": {},
   "outputs": [],
   "source": [
    "\n",
    "from colorama import Fore\n",
    "\n",
    "null_count = sum(df.isna().sum())\n",
    "duplicate_count = df.duplicated().sum()\n",
    "\n",
    "\n",
    "if (null_count == 0 and duplicate_count == 0):\n",
    "    print(Fore.GREEN + f'LULUS')\n",
    "    print(f'Jumlah Null     : {null_count}')\n",
    "    print(f'Jumlah Duplikat : {duplicate_count}')\n",
    "else:\n",
    "    print(Fore.RED + f'E OT, TIDAK LULUS')\n",
    "    print(f'Jumlah Null     : {null_count}')\n",
    "    print(f'Jumlah Duplikat : {duplicate_count}')"
   ]
  },
  {
   "cell_type": "markdown",
   "metadata": {},
   "source": [
    "<div class=\"alert alert-block alert-success\">\n",
    "    <h4><b>E.2</b> Data Encoding</h4>\n",
    "    <li>Pastikan encoding yang dilakukan adalah one-hot encoding</li>\n",
    "</div>"
   ]
  },
  {
   "cell_type": "code",
   "execution_count": null,
   "metadata": {},
   "outputs": [],
   "source": [
    "columns_count = df.shape[1]\n",
    "\n",
    "if (columns_count == 11):\n",
    "    print(Fore.GREEN + f'LULUS')\n",
    "    print(f'Jumlah Kolom     : {columns_count}')\n",
    "else:\n",
    "    print(Fore.RED + f'E OT, TIDAK LULUS')\n",
    "    print(f'Jumlah Kolom     : {columns_count}')"
   ]
  },
  {
   "cell_type": "markdown",
   "metadata": {},
   "source": [
    "<div class=\"alert alert-block alert-success\">\n",
    "    <h4><b>E.3</b> Data Transformation</h4>\n",
    "    <li>Pastikan distribusi data sudah sesuai dengan jenis transformasi yang digunakan</li>\n",
    "</div>"
   ]
  },
  {
   "cell_type": "code",
   "execution_count": null,
   "metadata": {},
   "outputs": [],
   "source": [
    "std_scaled_data = np.std(Scaled_data)\n",
    "min_norm_data = np.min(normalize_data)\n",
    "max_norm_data = np.max(normalize_data)\n",
    "\n",
    "if (std_scaled_data == 1 and min_norm_data == 0 and max_norm_data == 1):\n",
    "    print(Fore.GREEN + f'LULUS')\n",
    "    print(f'Standar Deviasi Data Standarisasi : {std_scaled_data}')\n",
    "    print(f'Nilai Terkecil Data Normalisasi   : {min_norm_data}')\n",
    "    print(f'Nilai Terbesar Data Normalisasi   : {max_norm_data}')\n",
    "else:\n",
    "    print(Fore.RED + f'E OT, TIDAK LULUS')\n",
    "    print(f'Standar Deviasi Data Standarisasi : {std_scaled_data}')\n",
    "    print(f'Nilai Terkecil Data Normalisasi   : {min_norm_data}')\n",
    "    print(f'Nilai Terbesar Data Normalisasi   : {max_norm_data}')"
   ]
  },
  {
   "cell_type": "markdown",
   "metadata": {},
   "source": [
    "<div class=\"alert alert-block alert-success\">\n",
    "    <h4><b>E.4</b> Data Splitting</h4>\n",
    "</div>"
   ]
  },
  {
   "cell_type": "code",
   "execution_count": null,
   "metadata": {},
   "outputs": [],
   "source": [
    "train_row_count = data_split[0].shape[0]\n",
    "test_row_count  = data_split[1].shape[0]\n",
    "\n",
    "if (train_row_count == 117 and test_row_count == 64):\n",
    "    print(Fore.GREEN + f'LULUS')\n",
    "    print(f'Jumlah baris train set : {train_row_count}')\n",
    "    print(f'Jumlah baris test set  : {test_row_count}')\n",
    "else:\n",
    "    print(Fore.RED + f'E OT, TIDAK LULUS')\n",
    "    print(f'Jumlah baris train set : {train_row_count}')\n",
    "    print(f'Jumlah baris test set  : {test_row_count}')"
   ]
  }
 ],
 "metadata": {
  "kernelspec": {
   "display_name": "Python 3",
   "language": "python",
   "name": "python3"
  },
  "language_info": {
   "codemirror_mode": {
    "name": "ipython",
    "version": 3
   },
   "file_extension": ".py",
   "mimetype": "text/x-python",
   "name": "python",
   "nbconvert_exporter": "python",
   "pygments_lexer": "ipython3",
   "version": "3.9.2"
  },
  "orig_nbformat": 4
 },
 "nbformat": 4,
 "nbformat_minor": 2
}
