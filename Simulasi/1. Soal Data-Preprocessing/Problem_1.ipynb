{
 "cells": [
  {
   "cell_type": "markdown",
   "metadata": {},
   "source": [
    "<hr>\n",
    "\n",
    "**SOAL 1.Deep Preprocessing**\n",
    "\n",
    "<div class=\"alert alert-block alert-info\">\n",
    "    <ul>\n",
    "        <li>Lakukan data-preprocessing sesuai arahan yang diberikan</li>\n",
    "        <li>Dataset adalah dataset titanic dengan target adalah <b>Survived</b></li>\n",
    "    </ul>\n",
    "</div>\n",
    "\n",
    "\n",
    "\n",
    "<div class=\"alert alert-block alert-danger\">\n",
    "    <ul>\n",
    "        <li><b>Jangan menghapus</b>  template code yang telah disediakan</li>\n",
    "    </ul>\n",
    "</div>\n",
    "\n",
    "<hr>\n",
    "\n"
   ]
  },
  {
   "cell_type": "markdown",
   "metadata": {},
   "source": [
    "## Import Library & Read Data"
   ]
  },
  {
   "cell_type": "code",
   "execution_count": 12,
   "metadata": {},
   "outputs": [],
   "source": [
    "import pandas as pd\n",
    "import sklearn"
   ]
  },
  {
   "cell_type": "code",
   "execution_count": 13,
   "metadata": {},
   "outputs": [
    {
     "data": {
      "text/html": [
       "<div>\n",
       "<style scoped>\n",
       "    .dataframe tbody tr th:only-of-type {\n",
       "        vertical-align: middle;\n",
       "    }\n",
       "\n",
       "    .dataframe tbody tr th {\n",
       "        vertical-align: top;\n",
       "    }\n",
       "\n",
       "    .dataframe thead th {\n",
       "        text-align: right;\n",
       "    }\n",
       "</style>\n",
       "<table border=\"1\" class=\"dataframe\">\n",
       "  <thead>\n",
       "    <tr style=\"text-align: right;\">\n",
       "      <th></th>\n",
       "      <th>Survived</th>\n",
       "      <th>Pclass</th>\n",
       "      <th>Sex</th>\n",
       "      <th>Age</th>\n",
       "      <th>SibSp</th>\n",
       "      <th>Parch</th>\n",
       "      <th>Fare</th>\n",
       "      <th>Embarked</th>\n",
       "    </tr>\n",
       "  </thead>\n",
       "  <tbody>\n",
       "    <tr>\n",
       "      <th>0</th>\n",
       "      <td>1</td>\n",
       "      <td>1</td>\n",
       "      <td>female</td>\n",
       "      <td>35.0</td>\n",
       "      <td>1</td>\n",
       "      <td>0</td>\n",
       "      <td>53.1000</td>\n",
       "      <td>S</td>\n",
       "    </tr>\n",
       "    <tr>\n",
       "      <th>1</th>\n",
       "      <td>0</td>\n",
       "      <td>1</td>\n",
       "      <td>male</td>\n",
       "      <td>54.0</td>\n",
       "      <td>0</td>\n",
       "      <td>0</td>\n",
       "      <td>51.8625</td>\n",
       "      <td>S</td>\n",
       "    </tr>\n",
       "    <tr>\n",
       "      <th>2</th>\n",
       "      <td>1</td>\n",
       "      <td>3</td>\n",
       "      <td>female</td>\n",
       "      <td>4.0</td>\n",
       "      <td>1</td>\n",
       "      <td>1</td>\n",
       "      <td>16.7000</td>\n",
       "      <td>S</td>\n",
       "    </tr>\n",
       "    <tr>\n",
       "      <th>3</th>\n",
       "      <td>1</td>\n",
       "      <td>1</td>\n",
       "      <td>female</td>\n",
       "      <td>58.0</td>\n",
       "      <td>0</td>\n",
       "      <td>0</td>\n",
       "      <td>26.5500</td>\n",
       "      <td>S</td>\n",
       "    </tr>\n",
       "    <tr>\n",
       "      <th>4</th>\n",
       "      <td>1</td>\n",
       "      <td>2</td>\n",
       "      <td>male</td>\n",
       "      <td>34.0</td>\n",
       "      <td>0</td>\n",
       "      <td>0</td>\n",
       "      <td>13.0000</td>\n",
       "      <td>S</td>\n",
       "    </tr>\n",
       "  </tbody>\n",
       "</table>\n",
       "</div>"
      ],
      "text/plain": [
       "   Survived  Pclass     Sex   Age  SibSp  Parch     Fare Embarked\n",
       "0         1       1  female  35.0      1      0  53.1000        S\n",
       "1         0       1    male  54.0      0      0  51.8625        S\n",
       "2         1       3  female   4.0      1      1  16.7000        S\n",
       "3         1       1  female  58.0      0      0  26.5500        S\n",
       "4         1       2    male  34.0      0      0  13.0000        S"
      ]
     },
     "execution_count": 13,
     "metadata": {},
     "output_type": "execute_result"
    }
   ],
   "source": [
    "# JANGAN MENGUBAH KODE INI\n",
    "df = pd.read_csv('titanic.csv')\n",
    "df.head()"
   ]
  },
  {
   "cell_type": "markdown",
   "metadata": {},
   "source": [
    "<div class=\"alert alert-block alert-success\">\n",
    "    <h3><b>A.</b> Data Cleaning</h3>\n",
    "    <li>Hilangkan Null pada data</li>\n",
    "    <li>Hilangkan nilai duplikat pada data</li>\n",
    "    <li>Simpan perubahan ke variable <b>df</b></li>\n",
    "</div>\n"
   ]
  },
  {
   "cell_type": "markdown",
   "metadata": {},
   "source": [
    "<div class=\"alert alert-block alert-success\">\n",
    "    <h3><b>B.</b> Encoding</h3>\n",
    "    <li>Lakukan one-hot encoding kedalam dataset</li>\n",
    "    <li>Simpan perubahan ke variable <b>df</b></li>\n",
    "</div>"
   ]
  },
  {
   "cell_type": "code",
   "execution_count": 14,
   "metadata": {},
   "outputs": [],
   "source": [
    "#KODE KALIAN DISINI\n",
    "df\n",
    "df1 = pd.get_dummies(df[['Sex','Embarked']])\n",
    "df = df.join(df1)"
   ]
  },
  {
   "cell_type": "code",
   "execution_count": 15,
   "metadata": {},
   "outputs": [],
   "source": [
    "# JANGAN MENGUBAH KODE INI\n",
    "df.drop(['Sex','Embarked'],axis=1,inplace=True)"
   ]
  },
  {
   "cell_type": "code",
   "execution_count": 16,
   "metadata": {},
   "outputs": [],
   "source": [
    "#KODE KALIAN DISINI\n",
    "df.drop_duplicates(inplace = True)\n",
    "df.duplicated().sum()\n",
    "df.dropna(inplace = True)"
   ]
  },
  {
   "cell_type": "markdown",
   "metadata": {},
   "source": [
    "<div class=\"alert alert-block alert-success\">\n",
    "    <h3><b>C.</b> Transformation</h3>\n",
    "    <li>Lakukan standarisasi dan normalisasi</li>\n",
    "    Simpan perubahan ke variable copy dari <b>df</b>\n",
    "</div>"
   ]
  },
  {
   "cell_type": "code",
   "execution_count": 17,
   "metadata": {},
   "outputs": [],
   "source": [
    "from sklearn.preprocessing import StandardScaler\n",
    "from sklearn.preprocessing import MinMaxScaler\n",
    "# JANGAN MENGUBAH KODE INI\n",
    "df_norm = df.copy()\n",
    "\n",
    "ss = StandardScaler()#KODE KALIAN DISINI\n",
    "Scaled_data = ss.fit_transform(df_norm)#KODE KALIAN DISINI\n",
    "\n",
    "# JANGAN MENGUBAH KODE INI\n",
    "df_min_max = df.copy()\n",
    "\n",
    "norm = MinMaxScaler()#KODE KALIAN DISINI\n",
    "normalize_data = norm.fit_transform(df_min_max)#KODE KALIAN DISINI"
   ]
  },
  {
   "cell_type": "markdown",
   "metadata": {},
   "source": [
    "<div class=\"alert alert-block alert-success\">\n",
    "    <h3><b>D.</b> Data Splitting</h3>\n",
    "    <li>Split data menjadi train dan test set</li>\n",
    "    <li>train set mengambil 65% dari keseluruhan data</li>\n",
    "    <li>Gunakan variable df</li>\n",
    "</div>"
   ]
  },
  {
   "cell_type": "code",
   "execution_count": 18,
   "metadata": {},
   "outputs": [],
   "source": [
    "from sklearn.model_selection import train_test_split\n",
    "\n",
    "X= df.iloc[:,:-1]\n",
    "y=df.iloc[:,0]\n",
    "\n",
    "data_split = train_test_split(X, y, test_size=0.35)"
   ]
  },
  {
   "cell_type": "markdown",
   "metadata": {
    "editable": true,
    "slideshow": {
     "slide_type": ""
    },
    "tags": []
   },
   "source": [
    "<div class=\"alert alert-block alert-success\">\n",
    "    <h3><b>E.</b> Submission</h3>\n",
    "    <b>Dilarang keras mengubah semua kode dibawah</b>\n",
    "</div>"
   ]
  },
  {
   "cell_type": "markdown",
   "metadata": {},
   "source": [
    "<div class=\"alert alert-block alert-success\">\n",
    "    <h4><b>E.1</b> Data Cleaning</h4>\n",
    "    <li>Pastikan tidak ada nilai null dan duplikat didalam data</li>\n",
    "</div>"
   ]
  },
  {
   "cell_type": "code",
   "execution_count": 19,
   "metadata": {},
   "outputs": [
    {
     "name": "stdout",
     "output_type": "stream",
     "text": [
      "\u001b[32mLULUS\n",
      "Jumlah Null     : 0\n",
      "Jumlah Duplikat : 0\n"
     ]
    }
   ],
   "source": [
    "\n",
    "from colorama import Fore\n",
    "\n",
    "null_count = sum(df.isna().sum())\n",
    "duplicate_count = df.duplicated().sum()\n",
    "\n",
    "\n",
    "if (null_count == 0 and duplicate_count == 0):\n",
    "    print(Fore.GREEN + f'LULUS')\n",
    "    print(f'Jumlah Null     : {null_count}')\n",
    "    print(f'Jumlah Duplikat : {duplicate_count}')\n",
    "else:\n",
    "    print(Fore.RED + f'E OT, TIDAK LULUS')\n",
    "    print(f'Jumlah Null     : {null_count}')\n",
    "    print(f'Jumlah Duplikat : {duplicate_count}')"
   ]
  },
  {
   "cell_type": "markdown",
   "metadata": {},
   "source": [
    "<div class=\"alert alert-block alert-success\">\n",
    "    <h4><b>E.2</b> Data Encoding</h4>\n",
    "    <li>Pastikan encoding yang dilakukan adalah one-hot encoding</li>\n",
    "</div>"
   ]
  },
  {
   "cell_type": "code",
   "execution_count": 20,
   "metadata": {},
   "outputs": [
    {
     "name": "stdout",
     "output_type": "stream",
     "text": [
      "\u001b[32mLULUS\n",
      "Jumlah Kolom     : 11\n"
     ]
    }
   ],
   "source": [
    "columns_count = df.shape[1]\n",
    "\n",
    "if (columns_count == 11):\n",
    "    print(Fore.GREEN + f'LULUS')\n",
    "    print(f'Jumlah Kolom     : {columns_count}')\n",
    "else:\n",
    "    print(Fore.RED + f'E OT, TIDAK LULUS')\n",
    "    print(f'Jumlah Kolom     : {columns_count}')"
   ]
  },
  {
   "cell_type": "markdown",
   "metadata": {},
   "source": [
    "<div class=\"alert alert-block alert-success\">\n",
    "    <h4><b>E.3</b> Data Transformation</h4>\n",
    "    <li>Pastikan distribusi data sudah sesuai dengan jenis transformasi yang digunakan</li>\n",
    "</div>"
   ]
  },
  {
   "cell_type": "code",
   "execution_count": 21,
   "metadata": {},
   "outputs": [
    {
     "name": "stdout",
     "output_type": "stream",
     "text": [
      "\u001b[32mLULUS\n",
      "Standar Deviasi Data Standarisasi : 1.0\n",
      "Nilai Terkecil Data Normalisasi   : 0.0\n",
      "Nilai Terbesar Data Normalisasi   : 1.0\n"
     ]
    }
   ],
   "source": [
    "import numpy as np\n",
    "\n",
    "std_scaled_data = np.std(Scaled_data)\n",
    "min_norm_data = np.min(normalize_data)\n",
    "max_norm_data = np.max(normalize_data)\n",
    "\n",
    "if (std_scaled_data == 1 and min_norm_data == 0 and max_norm_data == 1):\n",
    "    print(Fore.GREEN + f'LULUS')\n",
    "    print(f'Standar Deviasi Data Standarisasi : {std_scaled_data}')\n",
    "    print(f'Nilai Terkecil Data Normalisasi   : {min_norm_data}')\n",
    "    print(f'Nilai Terbesar Data Normalisasi   : {max_norm_data}')\n",
    "else:\n",
    "    print(Fore.RED + f'E OT, TIDAK LULUS')\n",
    "    print(f'Standar Deviasi Data Standarisasi : {std_scaled_data}')\n",
    "    print(f'Nilai Terkecil Data Normalisasi   : {min_norm_data}')\n",
    "    print(f'Nilai Terbesar Data Normalisasi   : {max_norm_data}')"
   ]
  },
  {
   "cell_type": "markdown",
   "metadata": {},
   "source": [
    "<div class=\"alert alert-block alert-success\">\n",
    "    <h4><b>E.4</b> Data Splitting</h4>\n",
    "</div>"
   ]
  },
  {
   "cell_type": "code",
   "execution_count": 22,
   "metadata": {},
   "outputs": [
    {
     "name": "stdout",
     "output_type": "stream",
     "text": [
      "\u001b[32mLULUS\n",
      "Jumlah baris train set : 117\n",
      "Jumlah baris test set  : 64\n"
     ]
    }
   ],
   "source": [
    "train_row_count = data_split[0].shape[0]\n",
    "test_row_count  = data_split[1].shape[0]\n",
    "\n",
    "if (train_row_count == 117 and test_row_count == 64):\n",
    "    print(Fore.GREEN + f'LULUS')\n",
    "    print(f'Jumlah baris train set : {train_row_count}')\n",
    "    print(f'Jumlah baris test set  : {test_row_count}')\n",
    "else:\n",
    "    print(Fore.RED + f'E OT, TIDAK LULUS')\n",
    "    print(f'Jumlah baris train set : {train_row_count}')\n",
    "    print(f'Jumlah baris test set  : {test_row_count}')"
   ]
  },
  {
   "cell_type": "code",
   "execution_count": null,
   "metadata": {},
   "outputs": [],
   "source": []
  }
 ],
 "metadata": {
  "kernelspec": {
   "display_name": "Rhesa_105",
   "language": "python",
   "name": "rhesa_105"
  },
  "language_info": {
   "codemirror_mode": {
    "name": "ipython",
    "version": 3
   },
   "file_extension": ".py",
   "mimetype": "text/x-python",
   "name": "python",
   "nbconvert_exporter": "python",
   "pygments_lexer": "ipython3",
   "version": "3.10.7"
  }
 },
 "nbformat": 4,
 "nbformat_minor": 4
}
