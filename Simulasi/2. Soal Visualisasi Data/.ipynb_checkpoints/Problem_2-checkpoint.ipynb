{
 "cells": [
  {
   "cell_type": "markdown",
   "id": "71019c1f",
   "metadata": {},
   "source": [
    "<hr>\n",
    "\n",
    "**SOAL 2.VISUALISASI DATA**\n",
    "\n",
    "<div class=\"alert alert-block alert-info\">\n",
    "    <ul>\n",
    "        <li>Jawab Pertanyaan yang diberikan dalam bentuk <b>grafik</b></li>\n",
    "        <li>Buat kesimpulan dari jawaban pertanyaan dalam bentuk markdown tepat <b>dibawah</b> dari cell grafik</li>\n",
    "    </ul>\n",
    "</div>\n",
    "\n",
    "\n",
    "<div class=\"alert alert-block alert-warning\">\n",
    "    <ul>\n",
    "        <li>Buatlah visualisasi <b>sesederhana</b> mungkin namun tetap dapat mudah dimengerti dan pesan dari grafik dapat tersampaikan</li>\n",
    "    </ul>\n",
    "</div>\n",
    "\n",
    "<div class=\"alert alert-block alert-danger\">\n",
    "    <ul>\n",
    "        <li><b>DILARANG</b> melakukan processing tambahan kedalam data yang dapat merubah distribusi dari data</li>\n",
    "        <li><b>Jangan menghapus</b>  template code yang telah disediakan</li>\n",
    "    </ul>\n",
    "</div>\n",
    "\n",
    "<hr>\n",
    "\n"
   ]
  },
  {
   "cell_type": "markdown",
   "id": "77fdb024",
   "metadata": {},
   "source": [
    "## Import Library & Read Data"
   ]
  },
  {
   "cell_type": "code",
   "execution_count": 1,
   "id": "df6aca89-6b3b-44a4-ad61-81b30db2b101",
   "metadata": {},
   "outputs": [],
   "source": [
    "import numpy as np\n",
    "import matplotlib.pyplot as plt\n",
    "import pandas as pd\n",
    "import seaborn as sns"
   ]
  },
  {
   "cell_type": "code",
   "execution_count": 2,
   "id": "e3b7bfff-f0ab-4ce8-a015-3d5eb9e81a0c",
   "metadata": {},
   "outputs": [
    {
     "data": {
      "text/html": [
       "<div>\n",
       "<style scoped>\n",
       "    .dataframe tbody tr th:only-of-type {\n",
       "        vertical-align: middle;\n",
       "    }\n",
       "\n",
       "    .dataframe tbody tr th {\n",
       "        vertical-align: top;\n",
       "    }\n",
       "\n",
       "    .dataframe thead th {\n",
       "        text-align: right;\n",
       "    }\n",
       "</style>\n",
       "<table border=\"1\" class=\"dataframe\">\n",
       "  <thead>\n",
       "    <tr style=\"text-align: right;\">\n",
       "      <th></th>\n",
       "      <th>price</th>\n",
       "      <th>area</th>\n",
       "      <th>bedrooms</th>\n",
       "      <th>bathrooms</th>\n",
       "      <th>stories</th>\n",
       "      <th>mainroad</th>\n",
       "      <th>guestroom</th>\n",
       "      <th>basement</th>\n",
       "      <th>hotwaterheating</th>\n",
       "      <th>airconditioning</th>\n",
       "      <th>parking</th>\n",
       "      <th>prefarea</th>\n",
       "      <th>furnishingstatus</th>\n",
       "    </tr>\n",
       "  </thead>\n",
       "  <tbody>\n",
       "    <tr>\n",
       "      <th>0</th>\n",
       "      <td>13300000</td>\n",
       "      <td>7420</td>\n",
       "      <td>4</td>\n",
       "      <td>2</td>\n",
       "      <td>3</td>\n",
       "      <td>yes</td>\n",
       "      <td>no</td>\n",
       "      <td>no</td>\n",
       "      <td>no</td>\n",
       "      <td>yes</td>\n",
       "      <td>2</td>\n",
       "      <td>yes</td>\n",
       "      <td>furnished</td>\n",
       "    </tr>\n",
       "    <tr>\n",
       "      <th>1</th>\n",
       "      <td>12250000</td>\n",
       "      <td>8960</td>\n",
       "      <td>4</td>\n",
       "      <td>4</td>\n",
       "      <td>4</td>\n",
       "      <td>yes</td>\n",
       "      <td>no</td>\n",
       "      <td>no</td>\n",
       "      <td>no</td>\n",
       "      <td>yes</td>\n",
       "      <td>3</td>\n",
       "      <td>no</td>\n",
       "      <td>furnished</td>\n",
       "    </tr>\n",
       "    <tr>\n",
       "      <th>2</th>\n",
       "      <td>12250000</td>\n",
       "      <td>9960</td>\n",
       "      <td>3</td>\n",
       "      <td>2</td>\n",
       "      <td>2</td>\n",
       "      <td>yes</td>\n",
       "      <td>no</td>\n",
       "      <td>yes</td>\n",
       "      <td>no</td>\n",
       "      <td>no</td>\n",
       "      <td>2</td>\n",
       "      <td>yes</td>\n",
       "      <td>semi-furnished</td>\n",
       "    </tr>\n",
       "    <tr>\n",
       "      <th>3</th>\n",
       "      <td>12215000</td>\n",
       "      <td>7500</td>\n",
       "      <td>4</td>\n",
       "      <td>2</td>\n",
       "      <td>2</td>\n",
       "      <td>yes</td>\n",
       "      <td>no</td>\n",
       "      <td>yes</td>\n",
       "      <td>no</td>\n",
       "      <td>yes</td>\n",
       "      <td>3</td>\n",
       "      <td>yes</td>\n",
       "      <td>furnished</td>\n",
       "    </tr>\n",
       "    <tr>\n",
       "      <th>4</th>\n",
       "      <td>11410000</td>\n",
       "      <td>7420</td>\n",
       "      <td>4</td>\n",
       "      <td>1</td>\n",
       "      <td>2</td>\n",
       "      <td>yes</td>\n",
       "      <td>yes</td>\n",
       "      <td>yes</td>\n",
       "      <td>no</td>\n",
       "      <td>yes</td>\n",
       "      <td>2</td>\n",
       "      <td>no</td>\n",
       "      <td>furnished</td>\n",
       "    </tr>\n",
       "  </tbody>\n",
       "</table>\n",
       "</div>"
      ],
      "text/plain": [
       "      price  area  bedrooms  bathrooms  stories mainroad guestroom basement  \\\n",
       "0  13300000  7420         4          2        3      yes        no       no   \n",
       "1  12250000  8960         4          4        4      yes        no       no   \n",
       "2  12250000  9960         3          2        2      yes        no      yes   \n",
       "3  12215000  7500         4          2        2      yes        no      yes   \n",
       "4  11410000  7420         4          1        2      yes       yes      yes   \n",
       "\n",
       "  hotwaterheating airconditioning  parking prefarea furnishingstatus  \n",
       "0              no             yes        2      yes        furnished  \n",
       "1              no             yes        3       no        furnished  \n",
       "2              no              no        2      yes   semi-furnished  \n",
       "3              no             yes        3      yes        furnished  \n",
       "4              no             yes        2       no        furnished  "
      ]
     },
     "execution_count": 2,
     "metadata": {},
     "output_type": "execute_result"
    }
   ],
   "source": [
    "df = pd.read_csv('Housing.csv')\n",
    "df.head()"
   ]
  },
  {
   "cell_type": "markdown",
   "id": "1eee3b9a",
   "metadata": {},
   "source": [
    "<div class=\"alert alert-block alert-success\">\n",
    "    <h3><b>2.1</b> Carilah salah dua atribut yang memiliki korelasi linear, kemudian visualisasikan korelasi kedua atribut tersebut</h3>\n",
    "</div>"
   ]
  },
  {
   "cell_type": "code",
   "execution_count": 3,
   "id": "3fe96292-9165-407b-b343-ac29f94f8be9",
   "metadata": {},
   "outputs": [],
   "source": [
    "#KODE KALIAN DISINI\n",
    "plt.show()"
   ]
  },
  {
   "cell_type": "markdown",
   "id": "6e65caa8",
   "metadata": {},
   "source": [
    "**KESIMPULAN KALIAN DISINI**\n",
    "<hr>\n"
   ]
  },
  {
   "cell_type": "markdown",
   "id": "23261b6f",
   "metadata": {},
   "source": [
    "<div class=\"alert alert-block alert-success\">\n",
    "    <h3><b>2.2</b> Bagaimana penyebaran nilai dari harga rumah</h3>\n",
    "</div>"
   ]
  },
  {
   "cell_type": "code",
   "execution_count": 6,
   "id": "f365faef-5040-4a69-9d30-5eaec114759b",
   "metadata": {},
   "outputs": [],
   "source": [
    "#KODE KALIAN DISINI\n",
    "plt.show()"
   ]
  },
  {
   "cell_type": "markdown",
   "id": "7764d711",
   "metadata": {},
   "source": [
    "**KESIMPULAN KALIAN DISINI**\n",
    "<hr>\n"
   ]
  },
  {
   "cell_type": "markdown",
   "id": "b0b4b682",
   "metadata": {},
   "source": [
    "<div class=\"alert alert-block alert-success\">\n",
    "    <h3><b>2.3</b> Visualisasikan korelasi antar atribut</h3>\n",
    "</div>"
   ]
  },
  {
   "cell_type": "code",
   "execution_count": 7,
   "id": "3c172532-7a76-4210-a75a-6a9c02f7eb97",
   "metadata": {},
   "outputs": [],
   "source": []
  },
  {
   "cell_type": "markdown",
   "id": "b6d277e2",
   "metadata": {},
   "source": [
    "**KESIMPULAN KALIAN DISINI**\n",
    "<hr>\n"
   ]
  },
  {
   "cell_type": "markdown",
   "id": "3816edd7",
   "metadata": {},
   "source": [
    "<div class=\"alert alert-block alert-success\">\n",
    "    <h3><b>2.4</b> Tampilkan perbandingan persentase rumah pada atribut pemanas air, pendingin ruangan, basement, dan kapasitas parkir</h3>\n",
    "</div>"
   ]
  },
  {
   "cell_type": "code",
   "execution_count": 9,
   "id": "28f82874-00f6-4d83-b100-f563d7a45393",
   "metadata": {},
   "outputs": [],
   "source": [
    "#KODE KALIAN DISINI\n",
    "plt.show()"
   ]
  },
  {
   "cell_type": "markdown",
   "id": "677e7303",
   "metadata": {},
   "source": [
    "**KESIMPULAN KALIAN DISINI**\n",
    "<hr>\n"
   ]
  },
  {
   "cell_type": "markdown",
   "id": "37fb3945",
   "metadata": {},
   "source": [
    "<div class=\"alert alert-block alert-success\">\n",
    "    <h3><b>2.5</b> Identifikasi outlier yang terdapat pada dataset menggunakan visualisasi grafik</h3>\n",
    "</div>"
   ]
  },
  {
   "cell_type": "code",
   "execution_count": 10,
   "id": "0766af97-3a71-434e-9067-1e92611804ed",
   "metadata": {},
   "outputs": [],
   "source": [
    "#KODE KALIAN DISINI\n",
    "plt.show()"
   ]
  }
 ],
 "metadata": {
  "kernelspec": {
   "display_name": "Python 3",
   "language": "python",
   "name": "python3"
  },
  "language_info": {
   "codemirror_mode": {
    "name": "ipython",
    "version": 3
   },
   "file_extension": ".py",
   "mimetype": "text/x-python",
   "name": "python",
   "nbconvert_exporter": "python",
   "pygments_lexer": "ipython3",
   "version": "3.9.2"
  }
 },
 "nbformat": 4,
 "nbformat_minor": 5
}
