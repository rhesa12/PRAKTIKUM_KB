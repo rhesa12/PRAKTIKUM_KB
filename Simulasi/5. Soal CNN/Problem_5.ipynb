{
 "cells": [
  {
   "cell_type": "markdown",
   "metadata": {},
   "source": [
    "<hr>\n",
    "\n",
    "**SOAL 5. CNN**\n",
    "\n",
    "<div class=\"alert alert-block alert-info\">\n",
    "    <ul>\n",
    "        <li>Dapat merancang suatu arsitektur CNN yang dapat meraih akurasi tertinggi dari prediksi data test</li>\n",
    "        <li>Dataset yang digunakan adalah data citra <b>dog/cat</b></li>\n",
    "    </ul>\n",
    "</div>\n",
    "\n",
    "\n",
    "<div class=\"alert alert-block alert-warning\">\n",
    "    <ul>\n",
    "        <li>Perhatikan jumlah hidden layer yang digunakan didalam arsitektur model</li>\n",
    "    </ul>\n",
    "</div>\n",
    "\n",
    "<div class=\"alert alert-block alert-danger\">\n",
    "    <ul>\n",
    "        <li><b>Jangan menghapus</b>  template code yang telah disediakan</li>\n",
    "    </ul>\n",
    "</div>\n",
    "\n",
    "<hr>\n",
    "\n"
   ]
  },
  {
   "cell_type": "markdown",
   "metadata": {},
   "source": [
    "## Import Library & Read Data"
   ]
  },
  {
   "cell_type": "code",
   "execution_count": 1,
   "metadata": {
    "executionInfo": {
     "elapsed": 3796,
     "status": "ok",
     "timestamp": 1697776837526,
     "user": {
      "displayName": "Muhammad Basith Algiffari",
      "userId": "16924477380195873104"
     },
     "user_tz": -480
    },
    "id": "c7DvWW-sRf4Q"
   },
   "outputs": [],
   "source": [
    "import tensorflow as tf\n",
    "import matplotlib.pyplot as plt\n",
    "import os\n",
    "import pandas as pd\n",
    "import numpy as np\n",
    "import sklearn"
   ]
  },
  {
   "cell_type": "code",
   "execution_count": 2,
   "metadata": {
    "executionInfo": {
     "elapsed": 1052,
     "status": "ok",
     "timestamp": 1697776854758,
     "user": {
      "displayName": "Muhammad Basith Algiffari",
      "userId": "16924477380195873104"
     },
     "user_tz": -480
    },
    "id": "IbL4_nefeMWb"
   },
   "outputs": [],
   "source": [
    "# JANGAN MENGUBAH KODE INI\n",
    "train_df_path = 'train_df.csv'\n",
    "df_train = pd.read_csv(train_df_path)"
   ]
  },
  {
   "cell_type": "markdown",
   "metadata": {},
   "source": [
    "<div class=\"alert alert-block alert-success\">\n",
    "    <h3><b>A.</b> Load Image</h3>\n",
    "</div>"
   ]
  },
  {
   "cell_type": "code",
   "execution_count": 10,
   "metadata": {
    "executionInfo": {
     "elapsed": 3,
     "status": "ok",
     "timestamp": 1697776854758,
     "user": {
      "displayName": "Muhammad Basith Algiffari",
      "userId": "16924477380195873104"
     },
     "user_tz": -480
    },
    "id": "nu7Qi0H_5BK-"
   },
   "outputs": [],
   "source": [
    "img_datagen = tf.keras.preprocessing.image.ImageDataGenerator(\n",
    "    rescale=1./255,\n",
    "    fill_mode='nearest'\n",
    "    # KODE KALIAN DISINI\n",
    ")"
   ]
  },
  {
   "cell_type": "code",
   "execution_count": 12,
   "metadata": {},
   "outputs": [
    {
     "name": "stdout",
     "output_type": "stream",
     "text": [
      "Found 1346 validated image filenames belonging to 1 classes.\n"
     ]
    },
    {
     "name": "stderr",
     "output_type": "stream",
     "text": [
      "E:\\KB\\venv_b1_21\\Rhesa_105\\lib\\site-packages\\keras\\src\\preprocessing\\image.py:1137: UserWarning: Found 3774 invalid image filename(s) in x_col=\"fileName\". These filename(s) will be ignored.\n",
      "  warnings.warn(\n"
     ]
    }
   ],
   "source": [
    "train_generator= img_datagen.flow_from_dataframe(\n",
    "                # JANGAN MENGUBAH KODE INI\n",
    "                dataframe=df_train,\n",
    "                directory=\"Dataset/\",\n",
    "                x_col=\"fileName\",\n",
    "                y_col=\"label\",\n",
    "\n",
    "                # KODE KALIAN DISINI  \n",
    "                target_size=(150,150),\n",
    "                batch_size=32,\n",
    "                shuffle=True,\n",
    "                subset='training'\n",
    ")"
   ]
  },
  {
   "cell_type": "markdown",
   "metadata": {},
   "source": [
    "<div class=\"alert alert-block alert-success\">\n",
    "    <h3><b>B.</b> Modelling CNN</h3>\n",
    "</div>"
   ]
  },
  {
   "cell_type": "code",
   "execution_count": 14,
   "metadata": {
    "executionInfo": {
     "elapsed": 3396,
     "status": "ok",
     "timestamp": 1697776897811,
     "user": {
      "displayName": "Muhammad Basith Algiffari",
      "userId": "16924477380195873104"
     },
     "user_tz": -480
    },
    "id": "vTmipxBl5taT"
   },
   "outputs": [],
   "source": [
    "model = tf.keras.Sequential([\n",
    "    tf.keras.layers.Conv2D()\n",
    "])# KODE KALIAN DISINI\n",
    "\n",
    "\n",
    "history = model.fit(\n",
    "    # KODE KALIAN DISINI\n",
    ")"
   ]
  },
  {
   "cell_type": "markdown",
   "metadata": {},
   "source": [
    "<div class=\"alert alert-block alert-success\">\n",
    "    <h3><b>C.</b> Evaluate</h3>\n",
    "</div>"
   ]
  },
  {
   "cell_type": "code",
   "execution_count": null,
   "metadata": {},
   "outputs": [],
   "source": [
    "# JANGAN MENGUBAH KODE INI\n",
    "df_test = pd.read_csv('test_df.csv')\n",
    "img_test_datagen = ImageDataGenerator(\n",
    "    # KODE KALIAN DISINI\n",
    ")\n",
    "\n",
    "test_data_gen = img_test_datagen.flow_from_dataframe(\n",
    "    # JANGAN MENGUBAH KODE INI\n",
    "    dataframe=df_test,\n",
    "    directory=\"Dataset/\",\n",
    "    x_col=\"fileName\",\n",
    "    y_col=\"label\",\n",
    "    shuffle=False\n",
    "\n",
    "   # KODE KALIAN DISINI\n",
    ")\n",
    "\n",
    "# JANGAN MENGUBAH KODE INI\n",
    "y_pred = model.predict(test_data_gen)\n",
    "y_pred = np.where(y_pred > 0.5, 'dog', 'cat')\n",
    "np.save('y_pred',y_pred.ravel())"
   ]
  },
  {
   "cell_type": "markdown",
   "metadata": {},
   "source": [
    "<div class=\"alert alert-block alert-success\">\n",
    "    <h3><b>D.</b> Test your code</h3>\n",
    "    JANGAN MENGUBAH KODE INI\n",
    "</div>"
   ]
  },
  {
   "cell_type": "code",
   "execution_count": null,
   "metadata": {
    "deletable": false,
    "editable": false
   },
   "outputs": [],
   "source": [
    "from colorama import Fore\n",
    "import numpy as np\n",
    "from sklearn.metrics import accuracy_score\n",
    "\n",
    "# JANGAN MENGUBAH KODE INI\n",
    "y_pred = np.load('y_pred.npy', allow_pickle=True)\n",
    "y_test = df_test['label']\n",
    "\n",
    "THRESHOLD = 0.7 \n",
    "acc = accuracy_score(y_test, y_pred)\n",
    "\n",
    "if acc > THRESHOLD:\n",
    "    print(Fore.GREEN + f'LULUS dengan skor {acc:.3%}')\n",
    "else:\n",
    "    print(Fore.RED + f'E OT, TIDAK LULUS, skor : {acc:.3%}')"
   ]
  }
 ],
 "metadata": {
  "accelerator": "GPU",
  "colab": {
   "authorship_tag": "ABX9TyPRihByYt3erF70/+MV4IkV",
   "gpuType": "T4",
   "mount_file_id": "1IZqN5iPnE3x6vZ6u21AYgLjVnusGgpus",
   "provenance": []
  },
  "kernelspec": {
   "display_name": "Rhesa_105",
   "language": "python",
   "name": "rhesa_105"
  },
  "language_info": {
   "codemirror_mode": {
    "name": "ipython",
    "version": 3
   },
   "file_extension": ".py",
   "mimetype": "text/x-python",
   "name": "python",
   "nbconvert_exporter": "python",
   "pygments_lexer": "ipython3",
   "version": "3.10.7"
  }
 },
 "nbformat": 4,
 "nbformat_minor": 4
}
