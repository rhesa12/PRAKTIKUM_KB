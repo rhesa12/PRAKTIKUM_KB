{
  "cells": [
    {
      "cell_type": "markdown",
      "metadata": {},
      "source": [
        "<hr>\n",
        "\n",
        "**SOAL 3. Machine Learning**\n",
        "\n",
        "<div class=\"alert alert-block alert-warning\">\n",
        "    <ul>\n",
        "        <li>Berikan solusi menggunakan algoritma ML (bebas) untuk meraih:</li>\n",
        "        <ul>\n",
        "            <li>Classification : <b>Akurasi Tertinggi (max. 100%)</b></li>\n",
        "            <li>Regression     : <b>R2-Score Tertinggi (max. 1.0)</b></li>\n",
        "        </ul>\n",
        "    </ul>\n",
        "</div>\n",
        "\n",
        "<div class=\"alert alert-block alert-info\">\n",
        "    <ul>\n",
        "        <li>Dataset terdiri dari 2 macam:</li>\n",
        "        <ul>\n",
        "            <li>Classification : <b>Kelas Harga HP</b></li>\n",
        "            <li>Regression     : <b>Harga Tiket Pesawat</b></li>\n",
        "        </ul>\n",
        "    </ul>\n",
        "</div>\n",
        "\n",
        "\n",
        "<div class=\"alert alert-block alert-warning\">\n",
        "    <ul>\n",
        "        <li>Praktikan diperbolehkan untuk menghapus kolom bila terasa tidak berkontribusi dalam hasil prediksi.</li>\n",
        "    </ul>\n",
        "</div>\n",
        "\n",
        "<div class=\"alert alert-block alert-danger\">\n",
        "    <ul>\n",
        "        <li><b>Dilarang keras menghapus</b>  template code yang telah disediakan.</li>\n",
        "    </ul>\n",
        "</div>\n",
        "\n",
        "<hr>\n",
        "\n"
      ]
    },
    {
      "cell_type": "markdown",
      "metadata": {},
      "source": [
        "## Import Default Libraries"
      ]
    },
    {
      "cell_type": "code",
      "execution_count": null,
      "metadata": {},
      "outputs": [],
      "source": [
        "import pandas as pd\n",
        "import numpy as np\n",
        "\n",
        "# Splitting\n",
        "from sklearn.model_selection import train_test_split\n",
        "\n",
        "# Classifier & Regressor\n",
        "from sklearn.svm import SVC \n",
        "from sklearn.linear_model import LinearRegression\n",
        "\n",
        "# Evaluating\n",
        "from sklearn.metrics import accuracy_score, r2_score\n",
        "\n",
        "# Penilaian\n",
        "from colorama import Fore"
      ]
    },
    {
      "cell_type": "markdown",
      "metadata": {
        "id": "vK_fF_uuaFhx"
      },
      "source": [
        "## A. Classification"
      ]
    },
    {
      "cell_type": "markdown",
      "metadata": {},
      "source": [
        "### A1. Load Dataset"
      ]
    },
    {
      "cell_type": "code",
      "execution_count": null,
      "metadata": {
        "tags": []
      },
      "outputs": [],
      "source": [
        "# DILARANG MENGUBAH KODE INI\n",
        "df1 = pd.read_csv(\"mobileprice-train.csv\")"
      ]
    },
    {
      "cell_type": "markdown",
      "metadata": {},
      "source": [
        "### A2. Splitting Data"
      ]
    },
    {
      "cell_type": "code",
      "execution_count": null,
      "metadata": {
        "id": "wMI2np5UePnX"
      },
      "outputs": [],
      "source": [
        "X1 = # KODE KALIAN DISINI\n",
        "y1 = # KODE KALIAN DISINI"
      ]
    },
    {
      "cell_type": "code",
      "execution_count": null,
      "metadata": {},
      "outputs": [],
      "source": [
        "X1_train, X1_test, y1_train, y1_test = train_test_split(\n",
        "    # KODE KALIAN DISINI\n",
        ")"
      ]
    },
    {
      "cell_type": "markdown",
      "metadata": {
        "id": "FJ-RnEXZupZU"
      },
      "source": [
        "### A3. Training & Predicting Data"
      ]
    },
    {
      "cell_type": "code",
      "execution_count": null,
      "metadata": {
        "id": "yKlw3rcnu4lW"
      },
      "outputs": [],
      "source": [
        "clf = # KODE KALIAN DISINI\n",
        "\n",
        "clf # KODE KALIAN DISINI"
      ]
    },
    {
      "cell_type": "code",
      "execution_count": null,
      "metadata": {},
      "outputs": [],
      "source": [
        "y1_pred = # KODE KALIAN DISINI"
      ]
    },
    {
      "cell_type": "markdown",
      "metadata": {},
      "source": [
        "### A4. Evaluation"
      ]
    },
    {
      "cell_type": "code",
      "execution_count": null,
      "metadata": {},
      "outputs": [],
      "source": [
        "clf.score # KODE KALIAN DISINI"
      ]
    },
    {
      "cell_type": "code",
      "execution_count": null,
      "metadata": {
        "colab": {
          "base_uri": "https://localhost:8080/",
          "height": 462
        },
        "id": "AQ9yyih76-c7",
        "outputId": "8d5ac087-7d02-4ca5-9930-b070fd47db63"
      },
      "outputs": [],
      "source": [
        "# SILAKAN LAKUKAN EVALUASI LAIN APABILA PERLU DISINI"
      ]
    },
    {
      "cell_type": "markdown",
      "metadata": {},
      "source": [
        "## B. Regression"
      ]
    },
    {
      "cell_type": "markdown",
      "metadata": {},
      "source": [
        "### B1. Load Dataset\n",
        "\n",
        "Dataset telah di-encode dan bersih."
      ]
    },
    {
      "cell_type": "code",
      "execution_count": null,
      "metadata": {},
      "outputs": [],
      "source": [
        "# DILARANG MENGUBAH KODE INI\n",
        "df2 = pd.read_csv(\"flightsprice-train.csv\")\n",
        "df2"
      ]
    },
    {
      "cell_type": "code",
      "execution_count": null,
      "metadata": {},
      "outputs": [],
      "source": [
        "X2 = # KODE KALIAN DISINI\n",
        "y2 = # KODE KALIAN DISINI"
      ]
    },
    {
      "cell_type": "markdown",
      "metadata": {},
      "source": [
        "### B2. Splitting Data"
      ]
    },
    {
      "cell_type": "code",
      "execution_count": null,
      "metadata": {},
      "outputs": [],
      "source": [
        "X2_train, X2_test, y2_train, y2_test = train_test_split(\n",
        "    # KODE KALIAN DISINI\n",
        ")"
      ]
    },
    {
      "cell_type": "markdown",
      "metadata": {},
      "source": [
        "### B3. Training & Predicting Data"
      ]
    },
    {
      "cell_type": "code",
      "execution_count": null,
      "metadata": {},
      "outputs": [],
      "source": [
        "reg = # KODE KALIAN DISINI\n",
        "\n",
        "reg # KODE KALIAN DISINI"
      ]
    },
    {
      "cell_type": "code",
      "execution_count": null,
      "metadata": {},
      "outputs": [],
      "source": [
        "y2_pred = # KODE KALIAN DISINI"
      ]
    },
    {
      "cell_type": "markdown",
      "metadata": {},
      "source": [
        "### B4. Evaluation"
      ]
    },
    {
      "cell_type": "code",
      "execution_count": null,
      "metadata": {},
      "outputs": [],
      "source": [
        "reg.score # KODE KALIAN DISINI"
      ]
    },
    {
      "cell_type": "code",
      "execution_count": null,
      "metadata": {},
      "outputs": [],
      "source": [
        "r2 # KODE KALIAN DISINI"
      ]
    },
    {
      "cell_type": "code",
      "execution_count": null,
      "metadata": {},
      "outputs": [],
      "source": [
        "# SILAKAN LAKUKAN EVALUASI LAIN APABILA PERLU DISINI"
      ]
    },
    {
      "cell_type": "markdown",
      "metadata": {},
      "source": [
        "## Submission\n",
        "\n",
        "Wajib jalankan code dibawah untuk melihat lulus/tidaknya model kalian"
      ]
    },
    {
      "cell_type": "code",
      "execution_count": null,
      "metadata": {},
      "outputs": [],
      "source": [
        "# DILARANG MENGUBAH KODE INI\n",
        "import pickle\n",
        "\n",
        "def submit_hasil(model, type):\n",
        "    file_praktikan = \"p3_clf_praktikan.sav\" if type == \"clf\" else \"p3_reg_praktikan.sav\"\n",
        "    file_x_test = \"mobileprice-x-test.pkl\" if type == \"clf\" else \"flightsprice-x-test.pkl\"\n",
        "    file_y_test = \"mobileprice-y-test.pkl\" if type == \"clf\" else \"flightsprice-y-test.pkl\"\n",
        "\n",
        "    X_test = pd.read_pickle(file_x_test)\n",
        "    y_test = pd.read_pickle(file_y_test)\n",
        "\n",
        "    pickle.dump(model, open(file_praktikan, 'wb'))\n",
        "    model_file_praktikan = pickle.load(open(file_praktikan, 'rb'))\n",
        "\n",
        "    y_pred = model_file_praktikan.predict(X_test)\n",
        "    skor_akhir = accuracy_score(y_test, y_pred) if type == 'clf' else r2_score(y_test, y_pred)\n",
        "\n",
        "    if skor_akhir > 0.9:\n",
        "        return Fore.GREEN + f'LULUS (Skor: {skor_akhir:.3%})'\n",
        "    else:\n",
        "        return Fore.RED + f'TIDAK LULUS (Skor: {skor_akhir:.3%})'\n",
        "\n",
        "# DILARANG MENGUBAH KODE INI"
      ]
    },
    {
      "cell_type": "code",
      "execution_count": null,
      "metadata": {},
      "outputs": [],
      "source": [
        "# DILARANG MENGUBAH KODE INI\n",
        "print(f\"Submission Klasifikasi : {submit_hasil(clf, 'clf')}\")"
      ]
    },
    {
      "cell_type": "code",
      "execution_count": null,
      "metadata": {},
      "outputs": [],
      "source": [
        "# DILARANG MENGUBAH KODE INI\n",
        "print(f\"Submission Regresi     : {submit_hasil(reg, 'reg')}\")"
      ]
    }
  ],
  "metadata": {
    "colab": {
      "provenance": []
    },
    "kernelspec": {
      "display_name": "Python 3",
      "name": "python3"
    },
    "language_info": {
      "codemirror_mode": {
        "name": "ipython",
        "version": 3
      },
      "file_extension": ".py",
      "mimetype": "text/x-python",
      "name": "python",
      "nbconvert_exporter": "python",
      "pygments_lexer": "ipython3",
      "version": "3.11.2"
    }
  },
  "nbformat": 4,
  "nbformat_minor": 0
}
