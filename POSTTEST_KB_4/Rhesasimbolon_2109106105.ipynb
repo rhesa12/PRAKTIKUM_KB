{
 "cells": [
  {
   "cell_type": "markdown",
   "id": "9d1e5128-798a-47e8-b5b5-f884e0e2f9d4",
   "metadata": {},
   "source": [
    "posttest 4\n",
    "rhesa simbolon\n",
    "2109106105"
   ]
  },
  {
   "cell_type": "markdown",
   "id": "cce08907-23d8-4150-85a5-b4d98a637d55",
   "metadata": {},
   "source": [
    "import library"
   ]
  },
  {
   "cell_type": "code",
   "execution_count": 54,
   "id": "274a69f6-8e9c-44fa-95eb-31ae343c2bfb",
   "metadata": {},
   "outputs": [],
   "source": [
    "from sklearn.model_selection import train_test_split\n",
    "from sklearn.datasets import load_iris\n",
    "import pandas as pd\n",
    "from sklearn.preprocessing import StandardScaler\n",
    "from sklearn.preprocessing import MinMaxScaler\n",
    "import numpy as np\n",
    "from sklearn.impute import SimpleImputer\n",
    "from sklearn.preprocessing import OneHotEncoder"
   ]
  },
  {
   "cell_type": "code",
   "execution_count": 19,
   "id": "d1b08ae1-9d32-420f-8363-64e2c5b4bb62",
   "metadata": {},
   "outputs": [
    {
     "data": {
      "text/html": [
       "<div>\n",
       "<style scoped>\n",
       "    .dataframe tbody tr th:only-of-type {\n",
       "        vertical-align: middle;\n",
       "    }\n",
       "\n",
       "    .dataframe tbody tr th {\n",
       "        vertical-align: top;\n",
       "    }\n",
       "\n",
       "    .dataframe thead th {\n",
       "        text-align: right;\n",
       "    }\n",
       "</style>\n",
       "<table border=\"1\" class=\"dataframe\">\n",
       "  <thead>\n",
       "    <tr style=\"text-align: right;\">\n",
       "      <th></th>\n",
       "      <th>Unnamed: 0</th>\n",
       "      <th>gender</th>\n",
       "      <th>age</th>\n",
       "      <th>marital_status</th>\n",
       "      <th>highest_qualification</th>\n",
       "      <th>nationality</th>\n",
       "      <th>ethnicity</th>\n",
       "      <th>gross_income</th>\n",
       "      <th>region</th>\n",
       "      <th>smoke</th>\n",
       "      <th>amt_weekends</th>\n",
       "      <th>amt_weekdays</th>\n",
       "      <th>type</th>\n",
       "    </tr>\n",
       "  </thead>\n",
       "  <tbody>\n",
       "    <tr>\n",
       "      <th>0</th>\n",
       "      <td>1</td>\n",
       "      <td>Male</td>\n",
       "      <td>38</td>\n",
       "      <td>Divorced</td>\n",
       "      <td>No Qualification</td>\n",
       "      <td>British</td>\n",
       "      <td>White</td>\n",
       "      <td>2,600 to 5,200</td>\n",
       "      <td>The North</td>\n",
       "      <td>No</td>\n",
       "      <td>NaN</td>\n",
       "      <td>NaN</td>\n",
       "      <td>NaN</td>\n",
       "    </tr>\n",
       "    <tr>\n",
       "      <th>1</th>\n",
       "      <td>2</td>\n",
       "      <td>Female</td>\n",
       "      <td>42</td>\n",
       "      <td>Single</td>\n",
       "      <td>No Qualification</td>\n",
       "      <td>British</td>\n",
       "      <td>White</td>\n",
       "      <td>Under 2,600</td>\n",
       "      <td>The North</td>\n",
       "      <td>Yes</td>\n",
       "      <td>12.0</td>\n",
       "      <td>12.0</td>\n",
       "      <td>Packets</td>\n",
       "    </tr>\n",
       "    <tr>\n",
       "      <th>2</th>\n",
       "      <td>3</td>\n",
       "      <td>Male</td>\n",
       "      <td>40</td>\n",
       "      <td>Married</td>\n",
       "      <td>Degree</td>\n",
       "      <td>English</td>\n",
       "      <td>White</td>\n",
       "      <td>28,600 to 36,400</td>\n",
       "      <td>The North</td>\n",
       "      <td>No</td>\n",
       "      <td>NaN</td>\n",
       "      <td>NaN</td>\n",
       "      <td>NaN</td>\n",
       "    </tr>\n",
       "    <tr>\n",
       "      <th>3</th>\n",
       "      <td>4</td>\n",
       "      <td>Female</td>\n",
       "      <td>40</td>\n",
       "      <td>Married</td>\n",
       "      <td>Degree</td>\n",
       "      <td>English</td>\n",
       "      <td>White</td>\n",
       "      <td>10,400 to 15,600</td>\n",
       "      <td>The North</td>\n",
       "      <td>No</td>\n",
       "      <td>NaN</td>\n",
       "      <td>NaN</td>\n",
       "      <td>NaN</td>\n",
       "    </tr>\n",
       "    <tr>\n",
       "      <th>4</th>\n",
       "      <td>5</td>\n",
       "      <td>Female</td>\n",
       "      <td>39</td>\n",
       "      <td>Married</td>\n",
       "      <td>GCSE/O Level</td>\n",
       "      <td>British</td>\n",
       "      <td>White</td>\n",
       "      <td>2,600 to 5,200</td>\n",
       "      <td>The North</td>\n",
       "      <td>No</td>\n",
       "      <td>NaN</td>\n",
       "      <td>NaN</td>\n",
       "      <td>NaN</td>\n",
       "    </tr>\n",
       "    <tr>\n",
       "      <th>...</th>\n",
       "      <td>...</td>\n",
       "      <td>...</td>\n",
       "      <td>...</td>\n",
       "      <td>...</td>\n",
       "      <td>...</td>\n",
       "      <td>...</td>\n",
       "      <td>...</td>\n",
       "      <td>...</td>\n",
       "      <td>...</td>\n",
       "      <td>...</td>\n",
       "      <td>...</td>\n",
       "      <td>...</td>\n",
       "      <td>...</td>\n",
       "    </tr>\n",
       "    <tr>\n",
       "      <th>1699</th>\n",
       "      <td>1687</td>\n",
       "      <td>Male</td>\n",
       "      <td>22</td>\n",
       "      <td>Single</td>\n",
       "      <td>No Qualification</td>\n",
       "      <td>Scottish</td>\n",
       "      <td>White</td>\n",
       "      <td>2,600 to 5,200</td>\n",
       "      <td>Scotland</td>\n",
       "      <td>No</td>\n",
       "      <td>NaN</td>\n",
       "      <td>NaN</td>\n",
       "      <td>NaN</td>\n",
       "    </tr>\n",
       "    <tr>\n",
       "      <th>1700</th>\n",
       "      <td>1688</td>\n",
       "      <td>Female</td>\n",
       "      <td>49</td>\n",
       "      <td>Divorced</td>\n",
       "      <td>Other/Sub Degree</td>\n",
       "      <td>English</td>\n",
       "      <td>White</td>\n",
       "      <td>2,600 to 5,200</td>\n",
       "      <td>Scotland</td>\n",
       "      <td>Yes</td>\n",
       "      <td>20.0</td>\n",
       "      <td>20.0</td>\n",
       "      <td>Hand-Rolled</td>\n",
       "    </tr>\n",
       "    <tr>\n",
       "      <th>1701</th>\n",
       "      <td>1689</td>\n",
       "      <td>Male</td>\n",
       "      <td>45</td>\n",
       "      <td>Married</td>\n",
       "      <td>Other/Sub Degree</td>\n",
       "      <td>Scottish</td>\n",
       "      <td>White</td>\n",
       "      <td>5,200 to 10,400</td>\n",
       "      <td>Scotland</td>\n",
       "      <td>No</td>\n",
       "      <td>NaN</td>\n",
       "      <td>NaN</td>\n",
       "      <td>NaN</td>\n",
       "    </tr>\n",
       "    <tr>\n",
       "      <th>1702</th>\n",
       "      <td>1690</td>\n",
       "      <td>Female</td>\n",
       "      <td>51</td>\n",
       "      <td>Married</td>\n",
       "      <td>No Qualification</td>\n",
       "      <td>English</td>\n",
       "      <td>White</td>\n",
       "      <td>2,600 to 5,200</td>\n",
       "      <td>Scotland</td>\n",
       "      <td>Yes</td>\n",
       "      <td>20.0</td>\n",
       "      <td>20.0</td>\n",
       "      <td>Packets</td>\n",
       "    </tr>\n",
       "    <tr>\n",
       "      <th>1703</th>\n",
       "      <td>1691</td>\n",
       "      <td>Male</td>\n",
       "      <td>31</td>\n",
       "      <td>Married</td>\n",
       "      <td>Degree</td>\n",
       "      <td>Scottish</td>\n",
       "      <td>White</td>\n",
       "      <td>10,400 to 15,600</td>\n",
       "      <td>Scotland</td>\n",
       "      <td>No</td>\n",
       "      <td>NaN</td>\n",
       "      <td>NaN</td>\n",
       "      <td>NaN</td>\n",
       "    </tr>\n",
       "  </tbody>\n",
       "</table>\n",
       "<p>1704 rows × 13 columns</p>\n",
       "</div>"
      ],
      "text/plain": [
       "      Unnamed: 0  gender  age marital_status highest_qualification  \\\n",
       "0              1    Male   38       Divorced      No Qualification   \n",
       "1              2  Female   42         Single      No Qualification   \n",
       "2              3    Male   40        Married                Degree   \n",
       "3              4  Female   40        Married                Degree   \n",
       "4              5  Female   39        Married          GCSE/O Level   \n",
       "...          ...     ...  ...            ...                   ...   \n",
       "1699        1687    Male   22         Single      No Qualification   \n",
       "1700        1688  Female   49       Divorced      Other/Sub Degree   \n",
       "1701        1689    Male   45        Married      Other/Sub Degree   \n",
       "1702        1690  Female   51        Married      No Qualification   \n",
       "1703        1691    Male   31        Married                Degree   \n",
       "\n",
       "     nationality ethnicity      gross_income     region smoke  amt_weekends  \\\n",
       "0        British     White    2,600 to 5,200  The North    No           NaN   \n",
       "1        British     White       Under 2,600  The North   Yes          12.0   \n",
       "2        English     White  28,600 to 36,400  The North    No           NaN   \n",
       "3        English     White  10,400 to 15,600  The North    No           NaN   \n",
       "4        British     White    2,600 to 5,200  The North    No           NaN   \n",
       "...          ...       ...               ...        ...   ...           ...   \n",
       "1699    Scottish     White    2,600 to 5,200   Scotland    No           NaN   \n",
       "1700     English     White    2,600 to 5,200   Scotland   Yes          20.0   \n",
       "1701    Scottish     White   5,200 to 10,400   Scotland    No           NaN   \n",
       "1702     English     White    2,600 to 5,200   Scotland   Yes          20.0   \n",
       "1703    Scottish     White  10,400 to 15,600   Scotland    No           NaN   \n",
       "\n",
       "      amt_weekdays         type  \n",
       "0              NaN          NaN  \n",
       "1             12.0      Packets  \n",
       "2              NaN          NaN  \n",
       "3              NaN          NaN  \n",
       "4              NaN          NaN  \n",
       "...            ...          ...  \n",
       "1699           NaN          NaN  \n",
       "1700          20.0  Hand-Rolled  \n",
       "1701           NaN          NaN  \n",
       "1702          20.0      Packets  \n",
       "1703           NaN          NaN  \n",
       "\n",
       "[1704 rows x 13 columns]"
      ]
     },
     "execution_count": 19,
     "metadata": {},
     "output_type": "execute_result"
    }
   ],
   "source": [
    "df = pd.read_csv(\"smoking.csv\")\n",
    "df"
   ]
  },
  {
   "cell_type": "markdown",
   "id": "23bffde5-8a63-489b-9e41-e6dbb025fe79",
   "metadata": {},
   "source": [
    "Membagi dataset menjadi training set dan testing set dengan proporsi 70:30 menggunakan train_size, dan test_size"
   ]
  },
  {
   "cell_type": "code",
   "execution_count": 20,
   "id": "aea752b5-2478-46ac-8c26-6fb6c4f73c98",
   "metadata": {},
   "outputs": [],
   "source": [
    "x = df.iloc[:,:-1] # Target\n",
    "y = df.iloc[:,-1] # Feature\n",
    "X_train, X_test, y_train, y_test = train_test_split(x, y, test_size=0.3, train_size=0.7)"
   ]
  },
  {
   "cell_type": "markdown",
   "id": "df2db852-70eb-4722-93a1-bb9893490938",
   "metadata": {},
   "source": [
    "Print jumlah row dan kolom dari x train, x test, y train, y test"
   ]
  },
  {
   "cell_type": "code",
   "execution_count": 21,
   "id": "b7a36a5c-f848-4a56-83c4-1e169e960bcf",
   "metadata": {},
   "outputs": [
    {
     "name": "stdout",
     "output_type": "stream",
     "text": [
      "Dimensi X_train :  (1192, 12)\n",
      "Dimensi X_train :  (512, 12)\n",
      "Dimensi y_train :  (1192,)\n",
      "Dimensi y_test  :  (512,)\n"
     ]
    }
   ],
   "source": [
    "print(\"Dimensi X_train : \", X_train.shape)\n",
    "print(\"Dimensi X_train : \", X_test.shape)\n",
    "print(\"Dimensi y_train : \", y_train.shape)\n",
    "print(\"Dimensi y_test  : \", y_test.shape)"
   ]
  },
  {
   "cell_type": "markdown",
   "id": "f5b73415-a340-4e6d-bd2f-6aa51a4d9b88",
   "metadata": {},
   "source": [
    "normalisasi data pada salah satu attribute menggunakan Min Max scaler¶"
   ]
  },
  {
   "cell_type": "code",
   "execution_count": 22,
   "id": "c79061b4-c868-4695-9185-d9f4ced34fed",
   "metadata": {},
   "outputs": [],
   "source": [
    "dataset_normalized =  df.copy()\n",
    "Scaler = MinMaxScaler()\n",
    "Normalized_Data = Scaler.fit_transform(dataset_normalized[['age']])\n",
    "dataset_normalized['age'] = Normalized_Data"
   ]
  },
  {
   "cell_type": "code",
   "execution_count": 23,
   "id": "8a2f19b1-83eb-441e-ba15-00d5bec3f539",
   "metadata": {},
   "outputs": [
    {
     "name": "stdout",
     "output_type": "stream",
     "text": [
      "sebelum dinormalisasi: \n",
      "count    1704.000000\n",
      "mean       49.752347\n",
      "std        18.744872\n",
      "min        16.000000\n",
      "25%        34.000000\n",
      "50%        48.000000\n",
      "75%        65.000000\n",
      "max        97.000000\n",
      "Name: age, dtype: float64\n",
      "\n",
      "\n",
      "setelah dinormalisasi: \n",
      "count    1704.000000\n",
      "mean        0.416696\n",
      "std         0.231418\n",
      "min         0.000000\n",
      "25%         0.222222\n",
      "50%         0.395062\n",
      "75%         0.604938\n",
      "max         1.000000\n",
      "Name: age, dtype: float64\n"
     ]
    }
   ],
   "source": [
    "print(\"sebelum dinormalisasi: \")\n",
    "print(df['age'].describe())\n",
    "print('\\n')\n",
    "print(\"setelah dinormalisasi: \")\n",
    "print(dataset_normalized['age'].describe())"
   ]
  },
  {
   "cell_type": "markdown",
   "id": "60bfc6b4-05f2-4f1a-8e48-77c998a9da53",
   "metadata": {},
   "source": [
    "standarisasi"
   ]
  },
  {
   "cell_type": "code",
   "execution_count": 24,
   "id": "438fdbce-470d-4db8-9918-faf90cfb34b2",
   "metadata": {},
   "outputs": [],
   "source": [
    "dataset_scaled =  df.copy()\n",
    "ss = StandardScaler()\n",
    "Scaled_data = ss.fit_transform(dataset_scaled[['age']])\n",
    "dataset_scaled['age'] = Scaled_data"
   ]
  },
  {
   "cell_type": "markdown",
   "id": "98301da8-fef5-4c87-aefb-cc35a41b0036",
   "metadata": {},
   "source": [
    "Menampilkan hasil dari standar deviasi sebelum di standarisasi, dan setelah di standarisasi"
   ]
  },
  {
   "cell_type": "code",
   "execution_count": 25,
   "id": "89148f81-cfe7-400d-9c1e-752fe3f8cf69",
   "metadata": {},
   "outputs": [
    {
     "name": "stdout",
     "output_type": "stream",
     "text": [
      "Nilai Data Sebelum scaling : \n",
      "Nilai standar deviasi:  18.739370862204144\n",
      "\n",
      "Nilai Data setelah scaling : \n",
      "Nilai standar deviasi:  1.0\n"
     ]
    }
   ],
   "source": [
    "print(\"Nilai Data Sebelum scaling : \")\n",
    "print(\"Nilai standar deviasi: \", np.std(df['age']))\n",
    "print(\"\\nNilai Data setelah scaling : \")\n",
    "print(\"Nilai standar deviasi: \", np.std(dataset_scaled['age']))"
   ]
  },
  {
   "cell_type": "markdown",
   "id": "8eddaa4b-3e67-4a87-8d05-c9508bb74b63",
   "metadata": {},
   "source": [
    "data cleaning"
   ]
  },
  {
   "cell_type": "code",
   "execution_count": 26,
   "id": "3d2d3742-0fca-4b3b-b1c3-ae9a25801481",
   "metadata": {},
   "outputs": [
    {
     "name": "stdout",
     "output_type": "stream",
     "text": [
      "Jumlah record yang memiliki nilai null :\n",
      "\n",
      "Unnamed: 0                  0\n",
      "gender                      0\n",
      "age                         0\n",
      "marital_status              0\n",
      "highest_qualification       0\n",
      "nationality                 0\n",
      "ethnicity                   0\n",
      "gross_income                0\n",
      "region                      0\n",
      "smoke                       0\n",
      "amt_weekends             1283\n",
      "amt_weekdays             1283\n",
      "type                     1283\n",
      "dtype: int64\n"
     ]
    }
   ],
   "source": [
    "print(\"Jumlah record yang memiliki nilai null :\\n\")\n",
    "print(df.isna().sum())"
   ]
  },
  {
   "cell_type": "code",
   "execution_count": 27,
   "id": "e729452c-41ef-43f4-952b-d18cc44efb20",
   "metadata": {},
   "outputs": [],
   "source": [
    "dataset_clean = df.copy()\n",
    "imputer1 = SimpleImputer(strategy='mean')\n",
    "dataset_clean[\"amt_weekends\"] = imputer1.fit_transform(dataset_clean[[\"amt_weekends\"]])"
   ]
  },
  {
   "cell_type": "code",
   "execution_count": 28,
   "id": "7214cce9-c9e5-406f-8b88-151ac469b9dd",
   "metadata": {},
   "outputs": [],
   "source": [
    "imputer2 = SimpleImputer(strategy='median')\n",
    "dataset_clean[\"amt_weekdays\"] = imputer2.fit_transform(dataset_clean[[\"amt_weekdays\"]])"
   ]
  },
  {
   "cell_type": "code",
   "execution_count": 29,
   "id": "debe34e7-81c6-4238-bbe6-361563aebb5e",
   "metadata": {},
   "outputs": [],
   "source": [
    "imputer3 = SimpleImputer(strategy='most_frequent')\n",
    "dataset_clean[\"type\"] = imputer3.fit_transform(dataset_clean[[\"type\"]])"
   ]
  },
  {
   "cell_type": "code",
   "execution_count": 30,
   "id": "4b57375d-ae4b-4f74-8521-09523612b1f8",
   "metadata": {},
   "outputs": [
    {
     "name": "stdout",
     "output_type": "stream",
     "text": [
      "Jumlah Nilai Null pada kolom amt_weekends sebelum Data Clean : 1283\n",
      "Jumlah Nilai Null pada kolom amt_weekdays sebelum Data Clean : 1283\n",
      "Jumlah Nilai Null pada kolom type sebelum Data Clean         : 1283\n",
      "\n",
      "Jumlah Nilai Null pada kolom amt_weekends setelah Data Clean : 0\n",
      "Jumlah Nilai Null pada kolom amt_weekdays setelah Data Clean : 0\n",
      "Jumlah Nilai Null pada kolom type setelah Data Clean         : 0\n"
     ]
    }
   ],
   "source": [
    "print(\"Jumlah Nilai Null pada kolom amt_weekends sebelum Data Clean :\", df['amt_weekends'].isna().sum())\n",
    "print(\"Jumlah Nilai Null pada kolom amt_weekdays sebelum Data Clean :\", df['amt_weekdays'].isna().sum())\n",
    "print(\"Jumlah Nilai Null pada kolom type sebelum Data Clean         :\", df['type'].isna().sum())\n",
    "print(\"\\nJumlah Nilai Null pada kolom amt_weekends setelah Data Clean :\", dataset_clean['amt_weekends'].isna().sum())\n",
    "print(\"Jumlah Nilai Null pada kolom amt_weekdays setelah Data Clean :\", dataset_clean['amt_weekdays'].isna().sum())\n",
    "print(\"Jumlah Nilai Null pada kolom type setelah Data Clean         :\", dataset_clean['type'].isna().sum())"
   ]
  },
  {
   "cell_type": "markdown",
   "id": "55f37abe-b6eb-466e-a8a7-9dced719543d",
   "metadata": {},
   "source": [
    "Membuat nilai duplikasi pada dataset dan menjumlahkan banyaknya data duplicat pada Data set"
   ]
  },
  {
   "cell_type": "code",
   "execution_count": 31,
   "id": "187484be-41f6-4325-a208-ee7feac34625",
   "metadata": {},
   "outputs": [
    {
     "name": "stdout",
     "output_type": "stream",
     "text": [
      "Jumlah Nilai Duplikat: \n"
     ]
    },
    {
     "data": {
      "text/plain": [
       "13"
      ]
     },
     "execution_count": 31,
     "metadata": {},
     "output_type": "execute_result"
    }
   ],
   "source": [
    "print(\"Jumlah Nilai Duplikat: \")\n",
    "df.duplicated().sum()"
   ]
  },
  {
   "cell_type": "code",
   "execution_count": 32,
   "id": "1130fdff-03a5-46ce-8491-a302cd820a27",
   "metadata": {},
   "outputs": [],
   "source": [
    "df.drop_duplicates(inplace=True)"
   ]
  },
  {
   "cell_type": "code",
   "execution_count": 33,
   "id": "96315bb1-8fdb-4c6a-aa07-24798772d263",
   "metadata": {},
   "outputs": [
    {
     "name": "stdout",
     "output_type": "stream",
     "text": [
      "Setelah menggunakan fungsi drop_duplicates()\n",
      "Jumlah nilai Duplikat: 0\n"
     ]
    }
   ],
   "source": [
    "print(\"Setelah menggunakan fungsi drop_duplicates()\")\n",
    "print(\"Jumlah nilai Duplikat:\", df.duplicated().sum())"
   ]
  },
  {
   "cell_type": "code",
   "execution_count": 37,
   "id": "90aebe8e-2f09-4836-99f9-e4df22e1cf65",
   "metadata": {},
   "outputs": [
    {
     "name": "stdout",
     "output_type": "stream",
     "text": [
      "<class 'pandas.core.frame.DataFrame'>\n",
      "Int64Index: 1691 entries, 0 to 1703\n",
      "Data columns (total 13 columns):\n",
      " #   Column                 Non-Null Count  Dtype  \n",
      "---  ------                 --------------  -----  \n",
      " 0   Unnamed: 0             1691 non-null   int64  \n",
      " 1   gender                 1691 non-null   object \n",
      " 2   age                    1691 non-null   int64  \n",
      " 3   marital_status         1691 non-null   object \n",
      " 4   highest_qualification  1691 non-null   object \n",
      " 5   nationality            1691 non-null   object \n",
      " 6   ethnicity              1691 non-null   object \n",
      " 7   gross_income           1691 non-null   object \n",
      " 8   region                 1691 non-null   object \n",
      " 9   smoke                  1691 non-null   object \n",
      " 10  amt_weekends           421 non-null    float64\n",
      " 11  amt_weekdays           421 non-null    float64\n",
      " 12  type                   421 non-null    object \n",
      "dtypes: float64(2), int64(2), object(9)\n",
      "memory usage: 185.0+ KB\n"
     ]
    }
   ],
   "source": [
    "df.info()"
   ]
  },
  {
   "cell_type": "markdown",
   "id": "a2598e5d-266c-4c0e-9652-b273f79a93bf",
   "metadata": {},
   "source": [
    "encoding"
   ]
  },
  {
   "cell_type": "code",
   "execution_count": 38,
   "id": "58fc0f5c-adb5-4f35-8dcf-f293109f5fd1",
   "metadata": {},
   "outputs": [],
   "source": [
    "df['age'] = df['age'].astype('float64')"
   ]
  },
  {
   "cell_type": "code",
   "execution_count": 40,
   "id": "50c2f0a1-6ad9-4769-ab85-54bb1820f7dc",
   "metadata": {},
   "outputs": [
    {
     "name": "stdout",
     "output_type": "stream",
     "text": [
      "<class 'pandas.core.frame.DataFrame'>\n",
      "Int64Index: 1691 entries, 0 to 1703\n",
      "Data columns (total 13 columns):\n",
      " #   Column                 Non-Null Count  Dtype  \n",
      "---  ------                 --------------  -----  \n",
      " 0   Unnamed: 0             1691 non-null   int64  \n",
      " 1   gender                 1691 non-null   object \n",
      " 2   age                    1691 non-null   float64\n",
      " 3   marital_status         1691 non-null   object \n",
      " 4   highest_qualification  1691 non-null   object \n",
      " 5   nationality            1691 non-null   object \n",
      " 6   ethnicity              1691 non-null   object \n",
      " 7   gross_income           1691 non-null   object \n",
      " 8   region                 1691 non-null   object \n",
      " 9   smoke                  1691 non-null   object \n",
      " 10  amt_weekends           421 non-null    float64\n",
      " 11  amt_weekdays           421 non-null    float64\n",
      " 12  type                   421 non-null    object \n",
      "dtypes: float64(3), int64(1), object(9)\n",
      "memory usage: 185.0+ KB\n"
     ]
    }
   ],
   "source": [
    "dataset2.info()"
   ]
  },
  {
   "cell_type": "code",
   "execution_count": 56,
   "id": "65f4729e-969c-476c-b63b-559c3c078e1c",
   "metadata": {},
   "outputs": [
    {
     "data": {
      "text/html": [
       "<div>\n",
       "<style scoped>\n",
       "    .dataframe tbody tr th:only-of-type {\n",
       "        vertical-align: middle;\n",
       "    }\n",
       "\n",
       "    .dataframe tbody tr th {\n",
       "        vertical-align: top;\n",
       "    }\n",
       "\n",
       "    .dataframe thead th {\n",
       "        text-align: right;\n",
       "    }\n",
       "</style>\n",
       "<table border=\"1\" class=\"dataframe\">\n",
       "  <thead>\n",
       "    <tr style=\"text-align: right;\">\n",
       "      <th></th>\n",
       "      <th>Unnamed: 0</th>\n",
       "      <th>gender</th>\n",
       "      <th>age</th>\n",
       "      <th>marital_status</th>\n",
       "      <th>highest_qualification</th>\n",
       "      <th>nationality</th>\n",
       "      <th>ethnicity</th>\n",
       "      <th>gross_income</th>\n",
       "      <th>region</th>\n",
       "      <th>smoke</th>\n",
       "      <th>amt_weekends</th>\n",
       "      <th>amt_weekdays</th>\n",
       "      <th>type</th>\n",
       "      <th>gender_Female</th>\n",
       "      <th>gender_Male</th>\n",
       "      <th>Female</th>\n",
       "      <th>Male</th>\n",
       "    </tr>\n",
       "  </thead>\n",
       "  <tbody>\n",
       "    <tr>\n",
       "      <th>0</th>\n",
       "      <td>1</td>\n",
       "      <td>Male</td>\n",
       "      <td>38.0</td>\n",
       "      <td>Divorced</td>\n",
       "      <td>No Qualification</td>\n",
       "      <td>British</td>\n",
       "      <td>White</td>\n",
       "      <td>2,600 to 5,200</td>\n",
       "      <td>The North</td>\n",
       "      <td>No</td>\n",
       "      <td>NaN</td>\n",
       "      <td>NaN</td>\n",
       "      <td>NaN</td>\n",
       "      <td>0</td>\n",
       "      <td>1</td>\n",
       "      <td>(0, 1)\\t1.0</td>\n",
       "      <td>(0, 1)\\t1.0</td>\n",
       "    </tr>\n",
       "    <tr>\n",
       "      <th>1</th>\n",
       "      <td>2</td>\n",
       "      <td>Female</td>\n",
       "      <td>42.0</td>\n",
       "      <td>Single</td>\n",
       "      <td>No Qualification</td>\n",
       "      <td>British</td>\n",
       "      <td>White</td>\n",
       "      <td>Under 2,600</td>\n",
       "      <td>The North</td>\n",
       "      <td>Yes</td>\n",
       "      <td>12.0</td>\n",
       "      <td>12.0</td>\n",
       "      <td>Packets</td>\n",
       "      <td>1</td>\n",
       "      <td>0</td>\n",
       "      <td>(0, 0)\\t1.0</td>\n",
       "      <td>(0, 0)\\t1.0</td>\n",
       "    </tr>\n",
       "    <tr>\n",
       "      <th>2</th>\n",
       "      <td>3</td>\n",
       "      <td>Male</td>\n",
       "      <td>40.0</td>\n",
       "      <td>Married</td>\n",
       "      <td>Degree</td>\n",
       "      <td>English</td>\n",
       "      <td>White</td>\n",
       "      <td>28,600 to 36,400</td>\n",
       "      <td>The North</td>\n",
       "      <td>No</td>\n",
       "      <td>NaN</td>\n",
       "      <td>NaN</td>\n",
       "      <td>NaN</td>\n",
       "      <td>0</td>\n",
       "      <td>1</td>\n",
       "      <td>(0, 1)\\t1.0</td>\n",
       "      <td>(0, 1)\\t1.0</td>\n",
       "    </tr>\n",
       "    <tr>\n",
       "      <th>3</th>\n",
       "      <td>4</td>\n",
       "      <td>Female</td>\n",
       "      <td>40.0</td>\n",
       "      <td>Married</td>\n",
       "      <td>Degree</td>\n",
       "      <td>English</td>\n",
       "      <td>White</td>\n",
       "      <td>10,400 to 15,600</td>\n",
       "      <td>The North</td>\n",
       "      <td>No</td>\n",
       "      <td>NaN</td>\n",
       "      <td>NaN</td>\n",
       "      <td>NaN</td>\n",
       "      <td>1</td>\n",
       "      <td>0</td>\n",
       "      <td>(0, 0)\\t1.0</td>\n",
       "      <td>(0, 0)\\t1.0</td>\n",
       "    </tr>\n",
       "    <tr>\n",
       "      <th>4</th>\n",
       "      <td>5</td>\n",
       "      <td>Female</td>\n",
       "      <td>39.0</td>\n",
       "      <td>Married</td>\n",
       "      <td>GCSE/O Level</td>\n",
       "      <td>British</td>\n",
       "      <td>White</td>\n",
       "      <td>2,600 to 5,200</td>\n",
       "      <td>The North</td>\n",
       "      <td>No</td>\n",
       "      <td>NaN</td>\n",
       "      <td>NaN</td>\n",
       "      <td>NaN</td>\n",
       "      <td>1</td>\n",
       "      <td>0</td>\n",
       "      <td>(0, 0)\\t1.0</td>\n",
       "      <td>(0, 0)\\t1.0</td>\n",
       "    </tr>\n",
       "  </tbody>\n",
       "</table>\n",
       "</div>"
      ],
      "text/plain": [
       "   Unnamed: 0  gender   age marital_status highest_qualification nationality  \\\n",
       "0           1    Male  38.0       Divorced      No Qualification     British   \n",
       "1           2  Female  42.0         Single      No Qualification     British   \n",
       "2           3    Male  40.0        Married                Degree     English   \n",
       "3           4  Female  40.0        Married                Degree     English   \n",
       "4           5  Female  39.0        Married          GCSE/O Level     British   \n",
       "\n",
       "  ethnicity      gross_income     region smoke  amt_weekends  amt_weekdays  \\\n",
       "0     White    2,600 to 5,200  The North    No           NaN           NaN   \n",
       "1     White       Under 2,600  The North   Yes          12.0          12.0   \n",
       "2     White  28,600 to 36,400  The North    No           NaN           NaN   \n",
       "3     White  10,400 to 15,600  The North    No           NaN           NaN   \n",
       "4     White    2,600 to 5,200  The North    No           NaN           NaN   \n",
       "\n",
       "      type  gender_Female  gender_Male         Female           Male  \n",
       "0      NaN              0            1    (0, 1)\\t1.0    (0, 1)\\t1.0  \n",
       "1  Packets              1            0    (0, 0)\\t1.0    (0, 0)\\t1.0  \n",
       "2      NaN              0            1    (0, 1)\\t1.0    (0, 1)\\t1.0  \n",
       "3      NaN              1            0    (0, 0)\\t1.0    (0, 0)\\t1.0  \n",
       "4      NaN              1            0    (0, 0)\\t1.0    (0, 0)\\t1.0  "
      ]
     },
     "execution_count": 56,
     "metadata": {},
     "output_type": "execute_result"
    }
   ],
   "source": [
    "encoder = OneHotEncoder()\n",
    "SexEnc = encoder.fit_transform(df[[\"gender\"]])\n",
    "SexEnc = pd.DataFrame(SexEnc)\n",
    "df[\"Female\"] = SexEnc[0]\n",
    "df[\"Male\"] = SexEnc[0]\n",
    "df.head()"
   ]
  }
 ],
 "metadata": {
  "kernelspec": {
   "display_name": "Rhesa_105",
   "language": "python",
   "name": "rhesa_105"
  },
  "language_info": {
   "codemirror_mode": {
    "name": "ipython",
    "version": 3
   },
   "file_extension": ".py",
   "mimetype": "text/x-python",
   "name": "python",
   "nbconvert_exporter": "python",
   "pygments_lexer": "ipython3",
   "version": "3.10.7"
  }
 },
 "nbformat": 4,
 "nbformat_minor": 5
}
